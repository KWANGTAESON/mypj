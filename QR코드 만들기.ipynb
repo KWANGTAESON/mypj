{
 "cells": [
  {
   "cell_type": "code",
   "execution_count": 1,
   "id": "4a7b3c45-c039-46c0-83a3-e00f12cacdad",
   "metadata": {},
   "outputs": [
    {
     "name": "stdout",
     "output_type": "stream",
     "text": [
      "Collecting pyqrcode\n",
      "  Downloading PyQRCode-1.2.1.zip (41 kB)\n",
      "\u001b[2K     \u001b[90m━━━━━━━━━━━━━━━━━━━━━━━━━━━━━━━━━━━━━━━━\u001b[0m \u001b[32m41.9/41.9 kB\u001b[0m \u001b[31m2.6 MB/s\u001b[0m eta \u001b[36m0:00:00\u001b[0m\n",
      "\u001b[?25h  Preparing metadata (setup.py) ... \u001b[?25ldone\n",
      "\u001b[?25hBuilding wheels for collected packages: pyqrcode\n",
      "  Building wheel for pyqrcode (setup.py) ... \u001b[?25ldone\n",
      "\u001b[?25h  Created wheel for pyqrcode: filename=PyQRCode-1.2.1-py3-none-any.whl size=36227 sha256=d5cfa3609ee628a4a87b0563b5765e0dd50ee06a3fda76af29812078293849d8\n",
      "  Stored in directory: /Users/son/Library/Caches/pip/wheels/f5/db/22/ade11e0c0854d1bb2fcc673dc90f6495ee2c0d2b6eb41492e3\n",
      "Successfully built pyqrcode\n",
      "Installing collected packages: pyqrcode\n",
      "Successfully installed pyqrcode-1.2.1\n"
     ]
    }
   ],
   "source": [
    "!pip install pyqrcode"
   ]
  },
  {
   "cell_type": "code",
   "execution_count": 2,
   "id": "4547d3c5-f621-47f4-88df-4f6f73524eeb",
   "metadata": {},
   "outputs": [
    {
     "name": "stdout",
     "output_type": "stream",
     "text": [
      "Collecting pypng\n",
      "  Downloading pypng-0.20220715.0-py3-none-any.whl (58 kB)\n",
      "\u001b[2K     \u001b[90m━━━━━━━━━━━━━━━━━━━━━━━━━━━━━━━━━━━━━━━━\u001b[0m \u001b[32m58.1/58.1 kB\u001b[0m \u001b[31m1.8 MB/s\u001b[0m eta \u001b[36m0:00:00\u001b[0m\n",
      "\u001b[?25hInstalling collected packages: pypng\n",
      "Successfully installed pypng-0.20220715.0\n"
     ]
    }
   ],
   "source": [
    "!pip install pypng"
   ]
  },
  {
   "cell_type": "code",
   "execution_count": 3,
   "id": "c67c3831-ff79-4038-aa4b-22eea6313c60",
   "metadata": {},
   "outputs": [],
   "source": [
    "import pyqrcode\n",
    "\n",
    "# QR 코드로 변환할 데이터 리스트\n",
    "data_list = [\"https://blog.naver.com/thsrhkd17\", \"QR 코드 2\", \"QR 코드 3\"]\n",
    "\n",
    "# 각 데이터를 기반으로 QR 코드를 생성하고 이미지 파일로 저장\n",
    "for i, data in enumerate(data_list):\n",
    "    qr = pyqrcode.create(data, encoding='utf-8')\n",
    "    qr.png(f\"qrcode_{i+1}.png\", scale=6)"
   ]
  },
  {
   "cell_type": "code",
   "execution_count": 7,
   "id": "fe1801f2-2237-4269-a122-e3dd9e145d5d",
   "metadata": {},
   "outputs": [],
   "source": [
    "import pyqrcode\n",
    "\n",
    "# QR 코드로 변환할 링크 URL\n",
    "url = \"www.naver.com\"\n",
    "\n",
    "# QR 코드 생성\n",
    "qr = pyqrcode.create(url)\n",
    "\n",
    "# QR 코드 이미지 파일로 저장\n",
    "qr.png(\"qrcode.png\", scale=6)"
   ]
  },
  {
   "cell_type": "code",
   "execution_count": null,
   "id": "a6c5cc14-2af4-4bd3-a3a7-941a96df927a",
   "metadata": {},
   "outputs": [],
   "source": []
  }
 ],
 "metadata": {
  "kernelspec": {
   "display_name": "Python 3 (ipykernel)",
   "language": "python",
   "name": "python3"
  },
  "language_info": {
   "codemirror_mode": {
    "name": "ipython",
    "version": 3
   },
   "file_extension": ".py",
   "mimetype": "text/x-python",
   "name": "python",
   "nbconvert_exporter": "python",
   "pygments_lexer": "ipython3",
   "version": "3.11.3"
  }
 },
 "nbformat": 4,
 "nbformat_minor": 5
}
